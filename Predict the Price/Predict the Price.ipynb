{
 "cells": [
  {
   "cell_type": "code",
   "execution_count": 1,
   "metadata": {},
   "outputs": [],
   "source": [
    "import pandas as pd\n",
    "import numpy as np"
   ]
  },
  {
   "cell_type": "code",
   "execution_count": 30,
   "metadata": {},
   "outputs": [],
   "source": [
    "train_data = pd.read_csv('train.csv')\n",
    "test_data = pd.read_csv('test.csv')"
   ]
  },
  {
   "cell_type": "code",
   "execution_count": 3,
   "metadata": {},
   "outputs": [
    {
     "data": {
      "text/html": [
       "<div>\n",
       "<style scoped>\n",
       "    .dataframe tbody tr th:only-of-type {\n",
       "        vertical-align: middle;\n",
       "    }\n",
       "\n",
       "    .dataframe tbody tr th {\n",
       "        vertical-align: top;\n",
       "    }\n",
       "\n",
       "    .dataframe thead th {\n",
       "        text-align: right;\n",
       "    }\n",
       "</style>\n",
       "<table border=\"1\" class=\"dataframe\">\n",
       "  <thead>\n",
       "    <tr style=\"text-align: right;\">\n",
       "      <th></th>\n",
       "      <th>Product_id</th>\n",
       "      <th>Stall_no</th>\n",
       "      <th>instock_date</th>\n",
       "      <th>Market_Category</th>\n",
       "      <th>Customer_name</th>\n",
       "      <th>Loyalty_customer</th>\n",
       "      <th>Product_Category</th>\n",
       "      <th>Grade</th>\n",
       "      <th>Demand</th>\n",
       "      <th>Discount_avail</th>\n",
       "      <th>charges_1</th>\n",
       "      <th>charges_2 (%)</th>\n",
       "      <th>Minimum_price</th>\n",
       "      <th>Maximum_price</th>\n",
       "      <th>Selling_Price</th>\n",
       "    </tr>\n",
       "  </thead>\n",
       "  <tbody>\n",
       "    <tr>\n",
       "      <th>0</th>\n",
       "      <td>BRAE2NF6JA5GUEXG</td>\n",
       "      <td>37.0</td>\n",
       "      <td>2015-08-22 18:36:12.000</td>\n",
       "      <td>2</td>\n",
       "      <td>Lillyann</td>\n",
       "      <td>Yes</td>\n",
       "      <td>Fashion</td>\n",
       "      <td>1</td>\n",
       "      <td>68</td>\n",
       "      <td>0.0</td>\n",
       "      <td>376.0</td>\n",
       "      <td>11.0</td>\n",
       "      <td>2983.0</td>\n",
       "      <td>4713.0</td>\n",
       "      <td>4185.947700</td>\n",
       "    </tr>\n",
       "    <tr>\n",
       "      <th>1</th>\n",
       "      <td>TUNE8SFB6RJN2HSD</td>\n",
       "      <td>38.0</td>\n",
       "      <td>2016-03-27 21:19:13.000</td>\n",
       "      <td>24</td>\n",
       "      <td>Klynn</td>\n",
       "      <td>Yes</td>\n",
       "      <td>Fashion</td>\n",
       "      <td>0</td>\n",
       "      <td>51</td>\n",
       "      <td>0.0</td>\n",
       "      <td>397.0</td>\n",
       "      <td>12.0</td>\n",
       "      <td>7495.0</td>\n",
       "      <td>10352.0</td>\n",
       "      <td>9271.490256</td>\n",
       "    </tr>\n",
       "    <tr>\n",
       "      <th>2</th>\n",
       "      <td>BRAEAR7WZPQGPBZU</td>\n",
       "      <td>9.0</td>\n",
       "      <td>2015-08-18 19:25:22.000</td>\n",
       "      <td>447</td>\n",
       "      <td>Ridge</td>\n",
       "      <td>Yes</td>\n",
       "      <td>Child_care</td>\n",
       "      <td>0</td>\n",
       "      <td>10</td>\n",
       "      <td>0.0</td>\n",
       "      <td>250.0</td>\n",
       "      <td>9.0</td>\n",
       "      <td>5752.0</td>\n",
       "      <td>7309.0</td>\n",
       "      <td>6785.701362</td>\n",
       "    </tr>\n",
       "    <tr>\n",
       "      <th>3</th>\n",
       "      <td>WATDZ2ZQ8JPDHCTJ</td>\n",
       "      <td>50.0</td>\n",
       "      <td>2016-03-28 21:53:01.000</td>\n",
       "      <td>23</td>\n",
       "      <td>Abran</td>\n",
       "      <td>Yes</td>\n",
       "      <td>Educational</td>\n",
       "      <td>2</td>\n",
       "      <td>48</td>\n",
       "      <td>0.0</td>\n",
       "      <td>144.0</td>\n",
       "      <td>13.0</td>\n",
       "      <td>5090.0</td>\n",
       "      <td>20814.0</td>\n",
       "      <td>13028.917824</td>\n",
       "    </tr>\n",
       "    <tr>\n",
       "      <th>4</th>\n",
       "      <td>JWSEBUKYQPMBZ3RK</td>\n",
       "      <td>7.0</td>\n",
       "      <td>2016-03-29 22:58:53.000</td>\n",
       "      <td>63</td>\n",
       "      <td>Dustyn</td>\n",
       "      <td>Yes</td>\n",
       "      <td>Repair</td>\n",
       "      <td>1</td>\n",
       "      <td>35</td>\n",
       "      <td>1.0</td>\n",
       "      <td>211.0</td>\n",
       "      <td>4.0</td>\n",
       "      <td>2430.0</td>\n",
       "      <td>9261.0</td>\n",
       "      <td>906.553935</td>\n",
       "    </tr>\n",
       "  </tbody>\n",
       "</table>\n",
       "</div>"
      ],
      "text/plain": [
       "         Product_id  Stall_no             instock_date  Market_Category  \\\n",
       "0  BRAE2NF6JA5GUEXG      37.0  2015-08-22 18:36:12.000                2   \n",
       "1  TUNE8SFB6RJN2HSD      38.0  2016-03-27 21:19:13.000               24   \n",
       "2  BRAEAR7WZPQGPBZU       9.0  2015-08-18 19:25:22.000              447   \n",
       "3  WATDZ2ZQ8JPDHCTJ      50.0  2016-03-28 21:53:01.000               23   \n",
       "4  JWSEBUKYQPMBZ3RK       7.0  2016-03-29 22:58:53.000               63   \n",
       "\n",
       "  Customer_name Loyalty_customer Product_Category  Grade  Demand  \\\n",
       "0      Lillyann              Yes          Fashion      1      68   \n",
       "1         Klynn              Yes          Fashion      0      51   \n",
       "2         Ridge              Yes       Child_care      0      10   \n",
       "3         Abran              Yes      Educational      2      48   \n",
       "4        Dustyn              Yes           Repair      1      35   \n",
       "\n",
       "   Discount_avail  charges_1  charges_2 (%)  Minimum_price  Maximum_price  \\\n",
       "0             0.0      376.0           11.0         2983.0         4713.0   \n",
       "1             0.0      397.0           12.0         7495.0        10352.0   \n",
       "2             0.0      250.0            9.0         5752.0         7309.0   \n",
       "3             0.0      144.0           13.0         5090.0        20814.0   \n",
       "4             1.0      211.0            4.0         2430.0         9261.0   \n",
       "\n",
       "   Selling_Price  \n",
       "0    4185.947700  \n",
       "1    9271.490256  \n",
       "2    6785.701362  \n",
       "3   13028.917824  \n",
       "4     906.553935  "
      ]
     },
     "execution_count": 3,
     "metadata": {},
     "output_type": "execute_result"
    }
   ],
   "source": [
    "train_data.head()"
   ]
  },
  {
   "cell_type": "code",
   "execution_count": 4,
   "metadata": {},
   "outputs": [
    {
     "data": {
      "text/plain": [
       "(6368, 15)"
      ]
     },
     "execution_count": 4,
     "metadata": {},
     "output_type": "execute_result"
    }
   ],
   "source": [
    "train_data.shape"
   ]
  },
  {
   "cell_type": "code",
   "execution_count": 31,
   "metadata": {},
   "outputs": [
    {
     "data": {
      "text/plain": [
       "(3430, 14)"
      ]
     },
     "execution_count": 31,
     "metadata": {},
     "output_type": "execute_result"
    }
   ],
   "source": [
    "test_data.shape"
   ]
  },
  {
   "cell_type": "code",
   "execution_count": 6,
   "metadata": {},
   "outputs": [],
   "source": [
    "train_data.drop(['Product_id', 'instock_date', 'Customer_name'], axis=1, inplace=True)"
   ]
  },
  {
   "cell_type": "code",
   "execution_count": 32,
   "metadata": {},
   "outputs": [],
   "source": [
    "test_data.drop(['Product_id', 'instock_date', 'Customer_name'], axis=1, inplace=True)"
   ]
  },
  {
   "cell_type": "code",
   "execution_count": 7,
   "metadata": {},
   "outputs": [
    {
     "data": {
      "text/plain": [
       "(6368, 12)"
      ]
     },
     "execution_count": 7,
     "metadata": {},
     "output_type": "execute_result"
    }
   ],
   "source": [
    "train_data.shape"
   ]
  },
  {
   "cell_type": "code",
   "execution_count": 33,
   "metadata": {},
   "outputs": [
    {
     "data": {
      "text/plain": [
       "(3430, 11)"
      ]
     },
     "execution_count": 33,
     "metadata": {},
     "output_type": "execute_result"
    }
   ],
   "source": [
    "test_data.shape"
   ]
  },
  {
   "cell_type": "code",
   "execution_count": 8,
   "metadata": {},
   "outputs": [
    {
     "data": {
      "text/plain": [
       "Stall_no              5\n",
       "Market_Category       0\n",
       "Loyalty_customer      0\n",
       "Product_Category      0\n",
       "Grade                 0\n",
       "Demand                0\n",
       "Discount_avail       38\n",
       "charges_1           198\n",
       "charges_2 (%)       205\n",
       "Minimum_price        38\n",
       "Maximum_price       343\n",
       "Selling_Price        41\n",
       "dtype: int64"
      ]
     },
     "execution_count": 8,
     "metadata": {},
     "output_type": "execute_result"
    }
   ],
   "source": [
    "train_data.isnull().sum()"
   ]
  },
  {
   "cell_type": "code",
   "execution_count": 34,
   "metadata": {},
   "outputs": [
    {
     "data": {
      "text/plain": [
       "Stall_no             1\n",
       "Market_Category      0\n",
       "Loyalty_customer     0\n",
       "Product_Category     0\n",
       "Grade                0\n",
       "Demand               0\n",
       "Discount_avail       0\n",
       "charges_1           36\n",
       "charges_2 (%)        5\n",
       "Minimum_price       14\n",
       "Maximum_price        0\n",
       "dtype: int64"
      ]
     },
     "execution_count": 34,
     "metadata": {},
     "output_type": "execute_result"
    }
   ],
   "source": [
    "test_data.isnull().sum()"
   ]
  },
  {
   "cell_type": "markdown",
   "metadata": {},
   "source": [
    "### Handling missing values"
   ]
  },
  {
   "cell_type": "markdown",
   "metadata": {},
   "source": [
    "#### `stall_no`"
   ]
  },
  {
   "cell_type": "code",
   "execution_count": 10,
   "metadata": {},
   "outputs": [],
   "source": [
    "train_data['Stall_no'].fillna(train_data['Stall_no'].mode()[0], inplace=True)"
   ]
  },
  {
   "cell_type": "code",
   "execution_count": 35,
   "metadata": {},
   "outputs": [],
   "source": [
    "test_data['Stall_no'].fillna(test_data['Stall_no'].mode()[0], inplace=True)"
   ]
  },
  {
   "cell_type": "markdown",
   "metadata": {},
   "source": [
    "#### `discount avail`"
   ]
  },
  {
   "cell_type": "code",
   "execution_count": 12,
   "metadata": {},
   "outputs": [],
   "source": [
    "train_data['Discount_avail'].fillna(train_data['Discount_avail'].mode()[0], inplace=True)"
   ]
  },
  {
   "cell_type": "markdown",
   "metadata": {},
   "source": [
    "#### `charges 1` "
   ]
  },
  {
   "cell_type": "code",
   "execution_count": 17,
   "metadata": {},
   "outputs": [],
   "source": [
    "train_data['charges_1'].fillna(train_data['charges_1'].mean(), inplace=True)"
   ]
  },
  {
   "cell_type": "code",
   "execution_count": 36,
   "metadata": {},
   "outputs": [],
   "source": [
    "test_data['charges_1'].fillna(test_data['charges_1'].mean(), inplace=True)"
   ]
  },
  {
   "cell_type": "markdown",
   "metadata": {},
   "source": [
    "#### `charges 2`"
   ]
  },
  {
   "cell_type": "code",
   "execution_count": 18,
   "metadata": {},
   "outputs": [],
   "source": [
    "train_data['charges_2 (%)'].fillna(train_data['charges_2 (%)'].mean(), inplace=True)"
   ]
  },
  {
   "cell_type": "code",
   "execution_count": 37,
   "metadata": {},
   "outputs": [],
   "source": [
    "test_data['charges_2 (%)'].fillna(test_data['charges_2 (%)'].mean(), inplace=True)"
   ]
  },
  {
   "cell_type": "markdown",
   "metadata": {},
   "source": [
    "#### `minimum price`"
   ]
  },
  {
   "cell_type": "code",
   "execution_count": 19,
   "metadata": {},
   "outputs": [],
   "source": [
    "train_data['Minimum_price'].fillna(train_data['Minimum_price'].mean(), inplace=True)"
   ]
  },
  {
   "cell_type": "code",
   "execution_count": 38,
   "metadata": {},
   "outputs": [],
   "source": [
    "test_data['Minimum_price'].fillna(test_data['Minimum_price'].mean(), inplace=True)"
   ]
  },
  {
   "cell_type": "markdown",
   "metadata": {},
   "source": [
    "#### `maximum price`"
   ]
  },
  {
   "cell_type": "code",
   "execution_count": 20,
   "metadata": {},
   "outputs": [],
   "source": [
    "train_data['Maximum_price'].fillna(train_data['Maximum_price'].mean(), inplace=True)"
   ]
  },
  {
   "cell_type": "markdown",
   "metadata": {},
   "source": [
    "#### selling price"
   ]
  },
  {
   "cell_type": "code",
   "execution_count": 25,
   "metadata": {},
   "outputs": [],
   "source": [
    "train_data.dropna(inplace=True)"
   ]
  },
  {
   "cell_type": "code",
   "execution_count": 26,
   "metadata": {},
   "outputs": [
    {
     "data": {
      "text/plain": [
       "(6327, 12)"
      ]
     },
     "execution_count": 26,
     "metadata": {},
     "output_type": "execute_result"
    }
   ],
   "source": [
    "train_data.shape"
   ]
  },
  {
   "cell_type": "code",
   "execution_count": 29,
   "metadata": {},
   "outputs": [
    {
     "name": "stdout",
     "output_type": "stream",
     "text": [
      "(6327, 11)\n",
      "(6327,)\n"
     ]
    }
   ],
   "source": [
    "x_train = train_data.drop(['Selling_Price'], axis=1)\n",
    "y_train = train_data['Selling_Price']\n",
    "\n",
    "print(x_train.shape)\n",
    "print(y_train.shape)"
   ]
  },
  {
   "cell_type": "code",
   "execution_count": 42,
   "metadata": {},
   "outputs": [],
   "source": [
    "x_train_dummy = pd.get_dummies(x_train)\n",
    "x_test_dummy = pd.get_dummies(test_data)"
   ]
  },
  {
   "cell_type": "code",
   "execution_count": 39,
   "metadata": {},
   "outputs": [
    {
     "name": "stdout",
     "output_type": "stream",
     "text": [
      "(3430, 11)\n"
     ]
    }
   ],
   "source": [
    "print(test_data.shape)"
   ]
  },
  {
   "cell_type": "markdown",
   "metadata": {},
   "source": [
    "### Modelling"
   ]
  },
  {
   "cell_type": "code",
   "execution_count": 60,
   "metadata": {},
   "outputs": [],
   "source": [
    "from sklearn.tree import DecisionTreeRegressor\n",
    "\n",
    "reg = DecisionTreeRegressor(random_state=0)\n",
    "\n",
    "reg.fit(x_train_dummy, y_train)\n",
    "\n",
    "y_pred = reg.predict(x_test_dummy)"
   ]
  },
  {
   "cell_type": "code",
   "execution_count": 82,
   "metadata": {},
   "outputs": [],
   "source": [
    "from sklearn.ensemble import GradientBoostingRegressor\n",
    "\n",
    "est = GradientBoostingRegressor(learning_rate=0.1)\n",
    "\n",
    "est.fit(x_train_dummy, y_train)\n",
    "\n",
    "y_pred_new = est.predict(x_test_dummy)"
   ]
  },
  {
   "cell_type": "code",
   "execution_count": 91,
   "metadata": {},
   "outputs": [],
   "source": [
    "from sklearn.ensemble import AdaBoostRegressor\n",
    "\n",
    "ada_reg = AdaBoostRegressor(learning_rate=0.1)\n",
    "\n",
    "ada_reg.fit(x_train_dummy, y_train)\n",
    "\n",
    "y_pred_ada = ada_reg.predict(x_test_dummy)"
   ]
  },
  {
   "cell_type": "code",
   "execution_count": 78,
   "metadata": {},
   "outputs": [],
   "source": [
    "y_pred = [abs(x) for x in y_pred]"
   ]
  },
  {
   "cell_type": "code",
   "execution_count": 83,
   "metadata": {},
   "outputs": [],
   "source": [
    "y_pred_new = [abs(x) for x in y_pred_new]"
   ]
  },
  {
   "cell_type": "code",
   "execution_count": 92,
   "metadata": {},
   "outputs": [],
   "source": [
    "y_pred_ada = [abs(x) for x in y_pred_ada]"
   ]
  },
  {
   "cell_type": "code",
   "execution_count": 44,
   "metadata": {},
   "outputs": [],
   "source": [
    "test_data_new = pd.read_csv('test.csv')"
   ]
  },
  {
   "cell_type": "code",
   "execution_count": 63,
   "metadata": {},
   "outputs": [],
   "source": [
    "submission = pd.DataFrame({'Product_id': test_data_new['Product_id'],\n",
    "                          'Selling_Price': y_pred})"
   ]
  },
  {
   "cell_type": "code",
   "execution_count": 64,
   "metadata": {},
   "outputs": [],
   "source": [
    "submission.to_csv('submission.csv', index=False)"
   ]
  },
  {
   "cell_type": "code",
   "execution_count": 84,
   "metadata": {},
   "outputs": [],
   "source": [
    "submission1 = pd.DataFrame({'Product_id': test_data_new['Product_id'],\n",
    "                          'Selling_Price': y_pred_new})"
   ]
  },
  {
   "cell_type": "code",
   "execution_count": 85,
   "metadata": {},
   "outputs": [],
   "source": [
    "submission1.to_csv('submission1.csv', index=False)"
   ]
  },
  {
   "cell_type": "code",
   "execution_count": 93,
   "metadata": {},
   "outputs": [],
   "source": [
    "submission2 = pd.DataFrame({'Product_id': test_data_new['Product_id'],\n",
    "                          'Selling_Price': y_pred_ada})"
   ]
  },
  {
   "cell_type": "code",
   "execution_count": 94,
   "metadata": {},
   "outputs": [],
   "source": [
    "submission2.to_csv('submission2.csv', index=False)"
   ]
  },
  {
   "cell_type": "code",
   "execution_count": null,
   "metadata": {},
   "outputs": [],
   "source": []
  }
 ],
 "metadata": {
  "kernelspec": {
   "display_name": "Python 3",
   "language": "python",
   "name": "python3"
  },
  "language_info": {
   "codemirror_mode": {
    "name": "ipython",
    "version": 3
   },
   "file_extension": ".py",
   "mimetype": "text/x-python",
   "name": "python",
   "nbconvert_exporter": "python",
   "pygments_lexer": "ipython3",
   "version": "3.8.5"
  }
 },
 "nbformat": 4,
 "nbformat_minor": 4
}
